{
 "cells": [
  {
   "cell_type": "code",
   "execution_count": 30,
   "metadata": {},
   "outputs": [],
   "source": [
    "import requests\n",
    "from bs4 import BeautifulSoup\n",
    "from selenium import webdriver\n",
    "from selenium.webdriver.common.by import By\n",
    "from selenium.webdriver.support.ui import WebDriverWait\n",
    "from selenium.webdriver.support import expected_conditions as EC\n",
    "\n",
    "from selenium.webdriver.chrome.service import Service"
   ]
  },
  {
   "cell_type": "code",
   "execution_count": 15,
   "metadata": {},
   "outputs": [],
   "source": [
    "base_url = 'https://www.metal-archives.com'\n",
    "letters_url = 'https://www.metal-archives.com/lists'\n",
    "headers = {'User-Agent': 'Mozilla/5.0'}"
   ]
  },
  {
   "cell_type": "code",
   "execution_count": 36,
   "metadata": {},
   "outputs": [],
   "source": [
    "def get_band_info(band_url):\n",
    "    response = requests.get(band_url, headers=headers)\n",
    "    soup = BeautifulSoup(response.content, 'html.parser')\n",
    "\n",
    "    band_data = {}\n",
    "\n",
    "    country_tag = soup.find('dt', text='Country of origin:')\n",
    "    if country_tag:\n",
    "        band_data['Country of origin'] = country_tag.find_next('dd').text.strip()\n",
    "\n",
    "    location_tag = soup.find('dt', text='Location:')\n",
    "    if location_tag:\n",
    "        band_data['Location'] = location_tag.find_next('dd').text.strip()\n",
    "\n",
    "    status_tag = soup.find('dt', text='Status:')\n",
    "    if status_tag:\n",
    "        band_data['Status'] = status_tag.find_next('dd').text.strip()\n",
    "\n",
    "    formed_tag = soup.find('dt', text='Formed in:')\n",
    "    if formed_tag:\n",
    "        band_data['Formed in'] = formed_tag.find_next('dd').text.strip()\n",
    "\n",
    "    genre_tag = soup.find('dt', text='Genre:')\n",
    "    if genre_tag:\n",
    "        band_data['Genre'] = genre_tag.find_next('dd').text.strip()\n",
    "\n",
    "    themes_tag = soup.find('dt', text='Themes:')\n",
    "    if themes_tag:\n",
    "        band_data['Themes'] = themes_tag.find_next('dd').text.strip()\n",
    "\n",
    "    last_label_tag = soup.find('dt', text='Last label:')\n",
    "    if last_label_tag:\n",
    "        band_data['Last label'] = last_label_tag.find_next('dd').text.strip()\n",
    "\n",
    "    years_active_tag = soup.find('dt', text='Years active:')\n",
    "    if years_active_tag:\n",
    "        band_data['Years active'] = years_active_tag.find_next('dd').text.strip()\n",
    "\n",
    "    return band_data\n",
    "\n",
    "def get_discography_url(band_url):\n",
    "    band_id = band_url.split('/')[-1]\n",
    "    return f'{base_url}/band/discography/id/{band_id}/tab/all'\n",
    "\n",
    "def get_discography(discography_url):\n",
    "    headers = {'User-Agent': 'Mozilla/5.0'}\n",
    "    response = requests.get(discography_url, headers=headers)\n",
    "    soup = BeautifulSoup(response.content, 'html.parser')\n",
    "\n",
    "    discography = []\n",
    "\n",
    "    discography_table = soup.find('table', class_='display discog')\n",
    "    if discography_table:\n",
    "        rows = discography_table.find_all('tr')[1:]  # Skip header row\n",
    "        for row in rows:\n",
    "            columns = row.find_all('td')\n",
    "            name = columns[0].text.strip()\n",
    "            disc_type = columns[1].text.strip()\n",
    "            year = columns[2].text.strip()\n",
    "            \n",
    "            # Extract the value of reviews for each album\n",
    "            reviews_column = columns[3].find('span', class_='num_votes')\n",
    "            reviews_value = reviews_column.text.strip() if reviews_column else 'N/A'\n",
    "            \n",
    "            discography.append({'Name': name, 'Type': disc_type, 'Year': year, 'Reviews': reviews_value})\n",
    "\n",
    "    return discography\n",
    "\n",
    "def scrape_band_data_for_letter(letter):\n",
    "    letter_url = f'{letters_url}{letter}'\n",
    "    headers = {'User-Agent': 'Mozilla/5.0'}\n",
    "    response = requests.get(letter_url, headers=headers)\n",
    "    soup = BeautifulSoup(response.content, 'html.parser')\n",
    "\n",
    "    band_page_links = []\n",
    "\n",
    "    band_table = soup.find('table', class_='bands')\n",
    "    if band_table:\n",
    "        band_links = band_table.find_all('a', class_='link')\n",
    "        band_page_links = [f'{base_url}{link[\"href\"]}' for link in band_links]\n",
    "\n",
    "    return band_page_links\n",
    "\n",
    "def scrape_all_bands_data():\n",
    "    all_bands_data = {}\n",
    "    for letter in range(ord('A'), ord('Z') + 1):\n",
    "        letter = chr(letter)\n",
    "        all_bands_data[letter] = scrape_band_data_for_letter(letter)\n",
    "    return all_bands_data\n",
    "\n",
    "def get_band_page_links(letter):\n",
    "    base_url = f'https://www.metal-archives.com/lists/{letter}'\n",
    "    driver_path = \"chromedriver-win64/chromedriver.exe\"\n",
    "    \n",
    "    service = Service(executable_path=driver_path)\n",
    "    options = webdriver.ChromeOptions()\n",
    "    options.add_argument('--headless')  # To run the browser in headless mode\n",
    "\n",
    "    driver = webdriver.Chrome(service=service, options=options)\n",
    "    driver.get(base_url)\n",
    "\n",
    "    band_page_links = []\n",
    "\n",
    "    while True:\n",
    "        wait = WebDriverWait(driver, 10)\n",
    "        try:\n",
    "            wait.until(EC.presence_of_element_located((By.CLASS_NAME, 'display')))\n",
    "            soup = BeautifulSoup(driver.page_source, 'html.parser')\n",
    "            band_table = soup.find('table', class_='display')\n",
    "            band_links = band_table.find_all('a', class_='link')\n",
    "            band_page_links.extend([link['href'] for link in band_links])\n",
    "\n",
    "            next_button = driver.find_element_by_class_name('paginate_button.next')\n",
    "            if 'disabled' in next_button.get_attribute('class'):\n",
    "                break\n",
    "\n",
    "            next_button.click()\n",
    "        except Exception as e:\n",
    "            print(f\"Error occurred: {e}\")\n",
    "            break"
   ]
  },
  {
   "cell_type": "code",
   "execution_count": 37,
   "metadata": {},
   "outputs": [
    {
     "name": "stdout",
     "output_type": "stream",
     "text": [
      "Error occurred: 'WebDriver' object has no attribute 'find_element_by_class_name'\n"
     ]
    }
   ],
   "source": [
    "get_band_page_links('A')"
   ]
  },
  {
   "cell_type": "code",
   "execution_count": 13,
   "metadata": {},
   "outputs": [
    {
     "name": "stdout",
     "output_type": "stream",
     "text": [
      "Letter: A\n"
     ]
    }
   ],
   "source": [
    "if __name__ == '__main__':\n",
    "    letter = 'A'\n",
    "    bands_data_for_letter = scrape_band_data_for_letter(letter)\n",
    "\n",
    "    print(f'Letter: {letter}')\n",
    "    for band in bands_data_for_letter:\n",
    "        print(f'Name: {band[\"Name\"]}')\n",
    "        print('Band Info:')\n",
    "        for key, value in band[\"Band Info\"].items():\n",
    "            print(f'{key}: {value}')\n",
    "        print('Discography:')\n",
    "        for album in band[\"Discography\"]:\n",
    "            print(f'Album Name: {album[\"Name\"]}, Type: {album[\"Type\"]}, Year: {album[\"Year\"]}')\n",
    "        print('-' * 50)\n"
   ]
  },
  {
   "cell_type": "code",
   "execution_count": null,
   "metadata": {},
   "outputs": [],
   "source": [
    "# if __name__ == '__main__':\n",
    "#     all_bands_data = scrape_all_bands_data()\n",
    "#     for letter, bands in all_bands_data.items():\n",
    "#         print(f'Letter: {letter}')\n",
    "#         for band in bands:\n",
    "#             print(f'Name: {band[\"Name\"]}')\n",
    "#             print('Band Info:')\n",
    "#             for key, value in band[\"Band Info\"].items():\n",
    "#                 print(f'{key}: {value}')\n",
    "#             print('Discography:')\n",
    "#             for album in band[\"Discography\"]:\n",
    "#                 print(f'Album Name: {album[\"Name\"]}, Type: {album[\"Type\"]}, Year: {album[\"Year\"]}')\n",
    "#             print('-' * 50)"
   ]
  }
 ],
 "metadata": {
  "kernelspec": {
   "display_name": ".venv",
   "language": "python",
   "name": "python3"
  },
  "language_info": {
   "codemirror_mode": {
    "name": "ipython",
    "version": 3
   },
   "file_extension": ".py",
   "mimetype": "text/x-python",
   "name": "python",
   "nbconvert_exporter": "python",
   "pygments_lexer": "ipython3",
   "version": "3.10.11"
  },
  "orig_nbformat": 4
 },
 "nbformat": 4,
 "nbformat_minor": 2
}
